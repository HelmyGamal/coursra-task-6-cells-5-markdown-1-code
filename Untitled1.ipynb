{
 "cells": [
  {
   "cell_type": "markdown",
   "id": "c82e2012",
   "metadata": {},
   "source": [
    "# My Jupyter Notebook on IBM Watson Studio"
   ]
  },
  {
   "cell_type": "markdown",
   "id": "40bf39df",
   "metadata": {},
   "source": [
    "**Wael Antar**\n",
    "I want to be a data scientist"
   ]
  },
  {
   "cell_type": "markdown",
   "id": "19583361",
   "metadata": {},
   "source": [
    "_I am intrested in data science because I love applying mathematical reasoning to real-world problems._"
   ]
  },
  {
   "cell_type": "markdown",
   "id": "e0cfc72c",
   "metadata": {},
   "source": [
    "### My code gives the sum of two initialized integer nubmber a and b "
   ]
  },
  {
   "cell_type": "code",
   "execution_count": 2,
   "id": "ad99e47c",
   "metadata": {},
   "outputs": [
    {
     "data": {
      "text/plain": [
       "2"
      ]
     },
     "execution_count": 2,
     "metadata": {},
     "output_type": "execute_result"
    }
   ],
   "source": [
    "a=b=1\n",
    "a+b"
   ]
  },
  {
   "cell_type": "markdown",
   "id": "834ecb74",
   "metadata": {},
   "source": [
    "\n",
    "***\n",
    "\n",
    "\n",
    "***\n",
    "\n",
    "1. first item\n",
    "2. second item\n",
    "\n",
    "- first item\n",
    "- second item\n",
    "\n",
    "1. third item\n",
    "2. fourth item\n",
    "\n",
    "+ third item\n",
    "+ fourth item\n",
    "\n",
    "![alt text](https://upload.wikimedia.org/wikipedia/en/f/f2/Robert_Downey_Jr._as_Tony_Stark_in_Avengers_Infinity_War.jpg)\n",
    "\n",
    "![altpanda](https://upload.wikimedia.org/wikipedia/commons/7/78/Image.jpg)\n",
    "\n",
    "[Duck Duck Go](https://duckduckgo.com)\n",
    "\n",
    "[google](https://google.com)\n",
    "\n",
    "| Stretch/Untouched | ProbDistribution | Accuracy |\n",
    "| --- | --- | --- |\n",
    "| Stretched | Gaussian | .843 |\n",
    "\n",
    "| true/false | name | rank |\n",
    "| --- | --- | --- |\n",
    "| true | roger | 980 |\n",
    "\n",
    "~~i am tired~~\n",
    "~~i am angry~~\n",
    "\n",
    "```python\n",
    ">>>print('hello')\n",
    "```\n",
    "\n",
    "```c\n",
    ">>>printf(\"hello\")\n",
    "```\n",
    ">yes! yes!\n",
    "\n",
    ">no! no!"
   ]
  },
  {
   "cell_type": "markdown",
   "id": "8e3dc7bb",
   "metadata": {},
   "source": []
  }
 ],
 "metadata": {
  "kernelspec": {
   "display_name": "Python 3",
   "language": "python",
   "name": "python3"
  },
  "language_info": {
   "codemirror_mode": {
    "name": "ipython",
    "version": 3
   },
   "file_extension": ".py",
   "mimetype": "text/x-python",
   "name": "python",
   "nbconvert_exporter": "python",
   "pygments_lexer": "ipython3",
   "version": "3.8.8"
  }
 },
 "nbformat": 4,
 "nbformat_minor": 5
}
